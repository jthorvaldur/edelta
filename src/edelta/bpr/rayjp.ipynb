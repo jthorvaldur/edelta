{
 "cells": [
  {
   "cell_type": "code",
   "execution_count": 42,
   "metadata": {},
   "outputs": [],
   "source": [
    "import dask.dataframe as dd\n",
    "import numpy as np\n",
    "import pandas as pd\n",
    "import ray\n",
    "from basefunc import genbasis_df, get_test_data_df, index_csum\n",
    "from genericray import *\n",
    "from sklearn.linear_model import BayesianRidge"
   ]
  },
  {
   "cell_type": "code",
   "execution_count": 43,
   "metadata": {},
   "outputs": [
    {
     "name": "stderr",
     "output_type": "stream",
     "text": [
      "2024-08-07 11:13:07,216\tINFO worker.py:1614 -- Calling ray.init() again after it has already been called.\n"
     ]
    },
    {
     "name": "stdout",
     "output_type": "stream",
     "text": [
      "127.0.0.1:8265\n"
     ]
    }
   ],
   "source": [
    "# Initialize Ray\n",
    "context = ray.init(ignore_reinit_error=True)\n",
    "print(context.dashboard_url)"
   ]
  },
  {
   "cell_type": "code",
   "execution_count": 44,
   "metadata": {},
   "outputs": [
    {
     "name": "stdout",
     "output_type": "stream",
     "text": [
      "/home/jthor/projects/tsprojection/src/bpr\n"
     ]
    }
   ],
   "source": [
    "chunk_size = 36\n",
    "num_basis_vectors = 5\n",
    "dt = chunk_size / num_basis_vectors\n",
    "\n",
    "# Generate test data\n",
    "delta_df, original_df = get_test_data_df()\n",
    "\n",
    "\n",
    "delta_df = pd.Series(np.random.standard_normal(size=1_000_000))\n",
    "\n",
    "rolling_vol = delta_df.rolling(60).std()\n",
    "rolling_vol[rolling_vol == 0] = np.nan\n",
    "rolling_vol = rolling_vol.ffill().bfill()\n",
    "rolling_vol_l1 = rolling_vol.shift(1).ffill().bfill()\n",
    "delta_df /= rolling_vol_l1\n",
    "\n",
    "cumsum_df = index_csum(delta_df, chunk_size)"
   ]
  },
  {
   "cell_type": "code",
   "execution_count": 45,
   "metadata": {},
   "outputs": [],
   "source": [
    "basis_df = genbasis_df(dt, chunk_size, num_basis_vectors)\n",
    "basis_df = (\n",
    "    basis_df.compute() if isinstance(basis_df, dd.DataFrame) else basis_df\n",
    ")"
   ]
  },
  {
   "cell_type": "code",
   "execution_count": 46,
   "metadata": {},
   "outputs": [
    {
     "name": "stdout",
     "output_type": "stream",
     "text": [
      "Generic Application Weights:\n",
      "               0         1         2         3         4\n",
      "35      0.152236 -0.070147 -0.501474  0.209293  0.050561\n",
      "71      0.287405 -0.280182 -0.271397  0.781765 -1.168640\n",
      "107    -0.094912 -0.073123  0.100903  0.027370 -0.080301\n",
      "143    -0.932527  0.911936  0.163777 -0.068189  0.200876\n",
      "179     0.100012  0.101007 -0.252092 -0.091990 -0.102264\n",
      "...          ...       ...       ...       ...       ...\n",
      "999846 -0.394788  0.235485  0.023319  0.328765  0.119113\n",
      "999882 -0.131027 -0.172991  0.144491 -0.535222  0.866933\n",
      "999918 -0.339328  0.046053  1.607446 -1.605514  0.253081\n",
      "999954  0.180628  0.110710  0.017378  0.150566 -0.074726\n",
      "999990 -0.152861 -0.187443 -1.224462  1.729183  0.035845\n",
      "\n",
      "[27776 rows x 5 columns]\n"
     ]
    },
    {
     "ename": "",
     "evalue": "",
     "output_type": "error",
     "traceback": [
      "\u001b[1;31mThe Kernel crashed while executing code in the current cell or a previous cell. \n",
      "\u001b[1;31mPlease review the code in the cell(s) to identify a possible cause of the failure. \n",
      "\u001b[1;31mClick <a href='https://aka.ms/vscodeJupyterKernelCrash'>here</a> for more info. \n",
      "\u001b[1;31mView Jupyter <a href='command:jupyter.viewOutput'>log</a> for further details."
     ]
    }
   ],
   "source": [
    "weights_df_generic = apply_model(\n",
    "    dd.from_pandas(cumsum_df, npartitions=7), basis_df, chunk_size\n",
    ")\n",
    "print(\"Generic Application Weights:\")\n",
    "print(weights_df_generic)"
   ]
  }
 ],
 "metadata": {
  "kernelspec": {
   "display_name": ".venv",
   "language": "python",
   "name": "python3"
  },
  "language_info": {
   "codemirror_mode": {
    "name": "ipython",
    "version": 3
   },
   "file_extension": ".py",
   "mimetype": "text/x-python",
   "name": "python",
   "nbconvert_exporter": "python",
   "pygments_lexer": "ipython3",
   "version": "3.11.9"
  }
 },
 "nbformat": 4,
 "nbformat_minor": 2
}
